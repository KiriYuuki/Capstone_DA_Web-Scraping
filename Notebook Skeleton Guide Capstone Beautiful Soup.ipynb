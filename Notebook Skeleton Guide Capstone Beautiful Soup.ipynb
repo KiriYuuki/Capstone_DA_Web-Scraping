{
 "cells": [
  {
   "cell_type": "markdown",
   "metadata": {},
   "source": [
    "# Capstone Webscraping using BeautifulSoup\n",
    "\n",
    "This notebook contains guidances & tasks on the data processing for the application\n",
    "\n",
    "## Background\n",
    "\n",
    "The exchange rate between the US Dollar (USD) and the Indonesian Rupiah (IDR) is a critical economic indicator that affects various sectors of Indonesia's economy, including import-export trade, foreign investment inflows, and the overall economic stability of the country. Fluctuations in this exchange rate can significantly impact businesses and investors who engage in international transactions.\n",
    "\n",
    "Given the importance of the USD to IDR exchange rate, **How do fluctuations in the USD to IDR exchange rate impact financial forecasting and decision-making for businesses involved in international trade with Indonesia?** Understanding these dynamics is crucial for financial planners, investors, and business leaders who rely on accurate predictions of currency movements to mitigate risks and maximize returns.\n",
    "\n",
    "Web scraping is required because historical exchange rate data is typically not available in a ready-to-use format for analysis. By scraping this data from financial websites that track and record daily exchange rates, we can obtain a comprehensive dataset that allows for a detailed time-series analysis.\n",
    "\n",
    "The web scraping will provide:\n",
    "- Daily USD to IDR exchange rates over a specified historical period.\n",
    "- Dates corresponding to each exchange rate, allowing for time-series analysis.\n",
    "\n",
    "This data will be used to:\n",
    "- Plot the historical trends of the exchange rate.\n",
    "- Identify any patterns, anomalies, or significant fluctuations in the exchange rate.\n",
    "- Calculate statistical metrics that can help in forecasting future rates.\n",
    "- Business Implications of the Results\n",
    "\n",
    "The results from this analysis can be used by businesses and investors to:\n",
    "- Enhance financial planning by understanding the trends and patterns in exchange rate fluctuations.\n",
    "- Improve risk management strategies by identifying potential periods of high volatility.\n",
    "- Make informed decisions regarding timing for currency exchange, investments, or pricing of products and services in international markets.\n",
    "\n",
    "By leveraging the insights gained from the historical data analysis, businesses can position themselves more favorably in the international market, optimizing their operations in response to currency trends.\n",
    "\n",
    "## Requesting the Data and Creating a BeautifulSoup\n",
    "\n",
    "Let's start by requesting the webpage using the `get` method from the `requests` library."
   ]
  },
  {
   "cell_type": "code",
   "execution_count": 3,
   "metadata": {
    "ExecuteTime": {
     "end_time": "2020-01-13T05:12:23.275508Z",
     "start_time": "2020-01-13T05:12:20.009898Z"
    }
   },
   "outputs": [],
   "source": [
    "import requests\n",
    "\n",
    "url_get = requests.get(\"https://www.exchange-rates.org/exchange-rate-history/usd-idr\")"
   ]
  },
  {
   "cell_type": "markdown",
   "metadata": {},
   "source": [
    "To visualize what exactly you get from the `request.get`, we can use `.content` so see what we exactly get (HTML content), in here i slice it so it won't make our screen full of the html we get from the page. You can delete the slicing if you want to see what we fully get."
   ]
  },
  {
   "cell_type": "code",
   "execution_count": 4,
   "metadata": {
    "ExecuteTime": {
     "end_time": "2020-01-13T05:12:23.290648Z",
     "start_time": "2020-01-13T05:12:23.277650Z"
    }
   },
   "outputs": [
    {
     "data": {
      "text/plain": [
       "b'!DOCTYPE html>\\r\\n<!--[if lt IE 9]>\\r\\n<html class=\"no-js ie8 oldie\" lang=\"en\" xml:lang=\\'en\\'>\\r\\n<![endif]-->\\r\\n<!--[if gt IE 8]><!--><html class=\"no-js\" lang=\"en\" xml:lang=\\'en\\'><!--<![endif]-->\\r\\n<head>\\r\\n<title>USD to IDR exchange rate history</title>\\r\\n<meta http-equiv=\"X-UA-Compatible\" content=\"IE=edge\">\\r\\n<meta name=\"viewport\" content=\"width=device-width, initial-scale=1, maximum-scale=5\">\\r\\n<meta charset=\"utf-8\" /><meta http-equiv=\"Content-Type\" content=\"text/html; charset=utf-8\" />\\r\\n<base href=\"http'"
      ]
     },
     "execution_count": 4,
     "metadata": {},
     "output_type": "execute_result"
    }
   ],
   "source": [
    "url_get.content[1:500]"
   ]
  },
  {
   "cell_type": "markdown",
   "metadata": {},
   "source": [
    "As we can see we get a very unstructured and complex html, which actually contains the codes needed to show the webpages on your web browser. But we as human still confused what and where we can use that piece of code, so here where we use the beautifulsoup. Beautiful soup class will result a beautifulsoup object. Beautiful Soup transforms a complex HTML document into a complex tree of Python objects. \n",
    "\n",
    "Let's create a BeautifulSoup object and feel free to explore the object here."
   ]
  },
  {
   "cell_type": "code",
   "execution_count": 5,
   "metadata": {
    "ExecuteTime": {
     "end_time": "2020-01-13T05:12:23.808122Z",
     "start_time": "2020-01-13T05:12:23.292610Z"
    }
   },
   "outputs": [
    {
     "name": "stdout",
     "output_type": "stream",
     "text": [
      "<class 'bs4.BeautifulSoup'>\n"
     ]
    }
   ],
   "source": [
    "from bs4 import BeautifulSoup \n",
    "\n",
    "soup = BeautifulSoup(url_get.content,\"html.parser\")\n",
    "print(type(soup))"
   ]
  },
  {
   "cell_type": "code",
   "execution_count": 6,
   "metadata": {},
   "outputs": [
    {
     "name": "stdout",
     "output_type": "stream",
     "text": [
      "<!DOCTYPE html>\n",
      "<!--[if lt IE 9]>\n",
      "<html class=\"no-js ie8 oldie\" lang=\"en\" xml:lang='en'>\n",
      "<![endif]-->\n",
      "<!--[if gt IE 8]><!-->\n",
      "<html class=\"no-js\" lang=\"en\" xml:lang=\"en\">\n",
      " <!--<![endif]-->\n",
      " <head>\n",
      "  <title>\n",
      "   USD to IDR exchange rate history\n",
      "  </title>\n",
      "  <meta content=\"IE=edge\" http-equiv=\"X-UA-Compatible\"/>\n",
      "  <meta content=\"width=device-width, initial-scale=1, maximum-scale=5\" name=\"viewport\"/>\n",
      "  <meta charset=\"utf-8\">\n",
      "   <meta content=\"text/html; charset=utf-8\" http-equiv=\"Content-Type\">\n",
      "   \n"
     ]
    }
   ],
   "source": [
    "print(soup.prettify()[:500])"
   ]
  },
  {
   "cell_type": "markdown",
   "metadata": {},
   "source": [
    "## Finding the right key to scrap the data & Extracting the right information"
   ]
  },
  {
   "cell_type": "markdown",
   "metadata": {},
   "source": [
    "To extract the desired information, we need to find the right key using the .find() method. We can explore the HTML structure using .prettify()."
   ]
  },
  {
   "cell_type": "code",
   "execution_count": 7,
   "metadata": {
    "ExecuteTime": {
     "end_time": "2020-01-13T05:12:23.878904Z",
     "start_time": "2020-01-13T05:12:23.854974Z"
    }
   },
   "outputs": [
    {
     "name": "stdout",
     "output_type": "stream",
     "text": [
      "table border=\"0\" cellpadding=\"0\" cellspacing=\"0\" class=\"history-rates-data\">\n",
      " <thead>\n",
      "  <tr>\n",
      "   <th class=\"ltr-bidi-fix\">\n",
      "    Date\n",
      "   </th>\n",
      "   <th class=\"ltr-bidi-fix\">\n",
      "    US Dollar to Indonesian Rupiah\n",
      "   </th>\n",
      "  </tr>\n",
      " </thead>\n",
      " <tbody>\n",
      "  <tr>\n",
      "   <td>\n",
      "    <a class=\"w\" href=\"/exchange-rate-history/usd-idr-2024-04-26\">\n",
      "     April 26, 2024\n",
      "    </a>\n",
      "    <a class=\"n\" href=\"/exchange-rate-history/usd-idr-2024-04-26\">\n",
      "     2024-4-26\n",
      "    </a>\n",
      "   </td>\n",
      "   <td>\n",
      "    <span class=\"w\">\n",
      "     <span class=\"n\n"
     ]
    }
   ],
   "source": [
    "table = soup.find(\"table\", attrs={\"class\": \"history-rates-data\"})\n",
    "print(table.prettify()[1:500])"
   ]
  },
  {
   "cell_type": "code",
   "execution_count": 8,
   "metadata": {},
   "outputs": [
    {
     "data": {
      "text/plain": [
       "[<tr>\n",
       " <th class=\"ltr-bidi-fix\">Date</th>\n",
       " <th class=\"ltr-bidi-fix\">US Dollar to Indonesian Rupiah</th>\n",
       " </tr>,\n",
       " <tr>\n",
       " <td>\n",
       " <a class=\"w\" href=\"/exchange-rate-history/usd-idr-2024-04-26\">April 26, 2024</a>\n",
       " <a class=\"n\" href=\"/exchange-rate-history/usd-idr-2024-04-26\">2024-4-26</a>\n",
       " </td>\n",
       " <td>\n",
       " <span class=\"w\"><span class=\"nowrap\"><span class=\"currencySymbol\">$</span>1 =</span> <span class=\"nowrap\"><span class=\"currencySymbol\">Rp</span>16,241</span></span>\n",
       " <span class=\"n\"><span class=\"nowrap\"><span class=\"currencySymbol\">$</span>1 =</span> <span class=\"nowrap\"><span class=\"currencySymbol\">Rp</span>16,241</span></span>\n",
       " </td>\n",
       " </tr>,\n",
       " <tr class=\"odd\">\n",
       " <td>\n",
       " <a class=\"w\" href=\"/exchange-rate-history/usd-idr-2024-04-25\">April 25, 2024</a>\n",
       " <a class=\"n\" href=\"/exchange-rate-history/usd-idr-2024-04-25\">2024-4-25</a>\n",
       " </td>\n",
       " <td>\n",
       " <span class=\"w\"><span class=\"nowrap\"><span class=\"currencySymbol\">$</span>1 =</span> <span class=\"nowrap\"><span class=\"currencySymbol\">Rp</span>16,193</span></span>\n",
       " <span class=\"n\"><span class=\"nowrap\"><span class=\"currencySymbol\">$</span>1 =</span> <span class=\"nowrap\"><span class=\"currencySymbol\">Rp</span>16,193</span></span>\n",
       " </td>\n",
       " </tr>,\n",
       " <tr>\n",
       " <td>\n",
       " <a class=\"w\" href=\"/exchange-rate-history/usd-idr-2024-04-24\">April 24, 2024</a>\n",
       " <a class=\"n\" href=\"/exchange-rate-history/usd-idr-2024-04-24\">2024-4-24</a>\n",
       " </td>\n",
       " <td>\n",
       " <span class=\"w\"><span class=\"nowrap\"><span class=\"currencySymbol\">$</span>1 =</span> <span class=\"nowrap\"><span class=\"currencySymbol\">Rp</span>16,212</span></span>\n",
       " <span class=\"n\"><span class=\"nowrap\"><span class=\"currencySymbol\">$</span>1 =</span> <span class=\"nowrap\"><span class=\"currencySymbol\">Rp</span>16,212</span></span>\n",
       " </td>\n",
       " </tr>,\n",
       " <tr class=\"odd\">\n",
       " <td>\n",
       " <a class=\"w\" href=\"/exchange-rate-history/usd-idr-2024-04-23\">April 23, 2024</a>\n",
       " <a class=\"n\" href=\"/exchange-rate-history/usd-idr-2024-04-23\">2024-4-23</a>\n",
       " </td>\n",
       " <td>\n",
       " <span class=\"w\"><span class=\"nowrap\"><span class=\"currencySymbol\">$</span>1 =</span> <span class=\"nowrap\"><span class=\"currencySymbol\">Rp</span>16,143</span></span>\n",
       " <span class=\"n\"><span class=\"nowrap\"><span class=\"currencySymbol\">$</span>1 =</span> <span class=\"nowrap\"><span class=\"currencySymbol\">Rp</span>16,143</span></span>\n",
       " </td>\n",
       " </tr>]"
      ]
     },
     "execution_count": 8,
     "metadata": {},
     "output_type": "execute_result"
    }
   ],
   "source": [
    "# Find a pattern to locate the table values\n",
    "table.find_all(\"tr\")[:5]"
   ]
  },
  {
   "cell_type": "markdown",
   "metadata": {},
   "source": [
    "Next, we need to find the row length."
   ]
  },
  {
   "cell_type": "code",
   "execution_count": 9,
   "metadata": {},
   "outputs": [
    {
     "data": {
      "text/plain": [
       "130"
      ]
     },
     "execution_count": 9,
     "metadata": {},
     "output_type": "execute_result"
    }
   ],
   "source": [
    "# Check the row length\n",
    "rows = table.find_all('a', class_='w')\n",
    "row_length = len(rows)\n",
    "row_length"
   ]
  },
  {
   "cell_type": "markdown",
   "metadata": {},
   "source": [
    "The Scrapping Process\n",
    "\n",
    "> You can use a for loop to perform the scraping process in various ways depending on the HTML structure of the website you want to scrap and the information you want to retrieve."
   ]
  },
  {
   "cell_type": "code",
   "execution_count": 10,
   "metadata": {},
   "outputs": [
    {
     "data": {
      "text/plain": [
       "[<a class=\"w\" href=\"/exchange-rate-history/usd-idr-2024-04-26\">April 26, 2024</a>,\n",
       " <a class=\"w\" href=\"/exchange-rate-history/usd-idr-2024-04-25\">April 25, 2024</a>,\n",
       " <a class=\"w\" href=\"/exchange-rate-history/usd-idr-2024-04-24\">April 24, 2024</a>,\n",
       " <a class=\"w\" href=\"/exchange-rate-history/usd-idr-2024-04-23\">April 23, 2024</a>,\n",
       " <a class=\"w\" href=\"/exchange-rate-history/usd-idr-2024-04-22\">April 22, 2024</a>,\n",
       " <a class=\"w\" href=\"/exchange-rate-history/usd-idr-2024-04-19\">April 19, 2024</a>,\n",
       " <a class=\"w\" href=\"/exchange-rate-history/usd-idr-2024-04-18\">April 18, 2024</a>,\n",
       " <a class=\"w\" href=\"/exchange-rate-history/usd-idr-2024-04-17\">April 17, 2024</a>,\n",
       " <a class=\"w\" href=\"/exchange-rate-history/usd-idr-2024-04-16\">April 16, 2024</a>,\n",
       " <a class=\"w\" href=\"/exchange-rate-history/usd-idr-2024-04-15\">April 15, 2024</a>,\n",
       " <a class=\"w\" href=\"/exchange-rate-history/usd-idr-2024-04-12\">April 12, 2024</a>,\n",
       " <a class=\"w\" href=\"/exchange-rate-history/usd-idr-2024-04-11\">April 11, 2024</a>,\n",
       " <a class=\"w\" href=\"/exchange-rate-history/usd-idr-2024-04-10\">April 10, 2024</a>,\n",
       " <a class=\"w\" href=\"/exchange-rate-history/usd-idr-2024-04-09\">April 9, 2024</a>,\n",
       " <a class=\"w\" href=\"/exchange-rate-history/usd-idr-2024-04-08\">April 8, 2024</a>,\n",
       " <a class=\"w\" href=\"/exchange-rate-history/usd-idr-2024-04-05\">April 5, 2024</a>,\n",
       " <a class=\"w\" href=\"/exchange-rate-history/usd-idr-2024-04-04\">April 4, 2024</a>,\n",
       " <a class=\"w\" href=\"/exchange-rate-history/usd-idr-2024-04-03\">April 3, 2024</a>,\n",
       " <a class=\"w\" href=\"/exchange-rate-history/usd-idr-2024-04-02\">April 2, 2024</a>,\n",
       " <a class=\"w\" href=\"/exchange-rate-history/usd-idr-2024-04-01\">April 1, 2024</a>,\n",
       " <a class=\"w\" href=\"/exchange-rate-history/usd-idr-2024-03-29\">March 29, 2024</a>,\n",
       " <a class=\"w\" href=\"/exchange-rate-history/usd-idr-2024-03-28\">March 28, 2024</a>,\n",
       " <a class=\"w\" href=\"/exchange-rate-history/usd-idr-2024-03-27\">March 27, 2024</a>,\n",
       " <a class=\"w\" href=\"/exchange-rate-history/usd-idr-2024-03-26\">March 26, 2024</a>,\n",
       " <a class=\"w\" href=\"/exchange-rate-history/usd-idr-2024-03-25\">March 25, 2024</a>,\n",
       " <a class=\"w\" href=\"/exchange-rate-history/usd-idr-2024-03-22\">March 22, 2024</a>,\n",
       " <a class=\"w\" href=\"/exchange-rate-history/usd-idr-2024-03-21\">March 21, 2024</a>,\n",
       " <a class=\"w\" href=\"/exchange-rate-history/usd-idr-2024-03-20\">March 20, 2024</a>,\n",
       " <a class=\"w\" href=\"/exchange-rate-history/usd-idr-2024-03-19\">March 19, 2024</a>,\n",
       " <a class=\"w\" href=\"/exchange-rate-history/usd-idr-2024-03-18\">March 18, 2024</a>,\n",
       " <a class=\"w\" href=\"/exchange-rate-history/usd-idr-2024-03-15\">March 15, 2024</a>,\n",
       " <a class=\"w\" href=\"/exchange-rate-history/usd-idr-2024-03-14\">March 14, 2024</a>,\n",
       " <a class=\"w\" href=\"/exchange-rate-history/usd-idr-2024-03-13\">March 13, 2024</a>,\n",
       " <a class=\"w\" href=\"/exchange-rate-history/usd-idr-2024-03-12\">March 12, 2024</a>,\n",
       " <a class=\"w\" href=\"/exchange-rate-history/usd-idr-2024-03-11\">March 11, 2024</a>,\n",
       " <a class=\"w\" href=\"/exchange-rate-history/usd-idr-2024-03-08\">March 8, 2024</a>,\n",
       " <a class=\"w\" href=\"/exchange-rate-history/usd-idr-2024-03-07\">March 7, 2024</a>,\n",
       " <a class=\"w\" href=\"/exchange-rate-history/usd-idr-2024-03-06\">March 6, 2024</a>,\n",
       " <a class=\"w\" href=\"/exchange-rate-history/usd-idr-2024-03-05\">March 5, 2024</a>,\n",
       " <a class=\"w\" href=\"/exchange-rate-history/usd-idr-2024-03-04\">March 4, 2024</a>,\n",
       " <a class=\"w\" href=\"/exchange-rate-history/usd-idr-2024-03-01\">March 1, 2024</a>,\n",
       " <a class=\"w\" href=\"/exchange-rate-history/usd-idr-2024-02-29\">February 29, 2024</a>,\n",
       " <a class=\"w\" href=\"/exchange-rate-history/usd-idr-2024-02-28\">February 28, 2024</a>,\n",
       " <a class=\"w\" href=\"/exchange-rate-history/usd-idr-2024-02-27\">February 27, 2024</a>,\n",
       " <a class=\"w\" href=\"/exchange-rate-history/usd-idr-2024-02-26\">February 26, 2024</a>,\n",
       " <a class=\"w\" href=\"/exchange-rate-history/usd-idr-2024-02-23\">February 23, 2024</a>,\n",
       " <a class=\"w\" href=\"/exchange-rate-history/usd-idr-2024-02-22\">February 22, 2024</a>,\n",
       " <a class=\"w\" href=\"/exchange-rate-history/usd-idr-2024-02-21\">February 21, 2024</a>,\n",
       " <a class=\"w\" href=\"/exchange-rate-history/usd-idr-2024-02-20\">February 20, 2024</a>,\n",
       " <a class=\"w\" href=\"/exchange-rate-history/usd-idr-2024-02-19\">February 19, 2024</a>,\n",
       " <a class=\"w\" href=\"/exchange-rate-history/usd-idr-2024-02-16\">February 16, 2024</a>,\n",
       " <a class=\"w\" href=\"/exchange-rate-history/usd-idr-2024-02-15\">February 15, 2024</a>,\n",
       " <a class=\"w\" href=\"/exchange-rate-history/usd-idr-2024-02-14\">February 14, 2024</a>,\n",
       " <a class=\"w\" href=\"/exchange-rate-history/usd-idr-2024-02-13\">February 13, 2024</a>,\n",
       " <a class=\"w\" href=\"/exchange-rate-history/usd-idr-2024-02-12\">February 12, 2024</a>,\n",
       " <a class=\"w\" href=\"/exchange-rate-history/usd-idr-2024-02-09\">February 9, 2024</a>,\n",
       " <a class=\"w\" href=\"/exchange-rate-history/usd-idr-2024-02-08\">February 8, 2024</a>,\n",
       " <a class=\"w\" href=\"/exchange-rate-history/usd-idr-2024-02-07\">February 7, 2024</a>,\n",
       " <a class=\"w\" href=\"/exchange-rate-history/usd-idr-2024-02-06\">February 6, 2024</a>,\n",
       " <a class=\"w\" href=\"/exchange-rate-history/usd-idr-2024-02-05\">February 5, 2024</a>,\n",
       " <a class=\"w\" href=\"/exchange-rate-history/usd-idr-2024-02-02\">February 2, 2024</a>,\n",
       " <a class=\"w\" href=\"/exchange-rate-history/usd-idr-2024-02-01\">February 1, 2024</a>,\n",
       " <a class=\"w\" href=\"/exchange-rate-history/usd-idr-2024-01-31\">January 31, 2024</a>,\n",
       " <a class=\"w\" href=\"/exchange-rate-history/usd-idr-2024-01-30\">January 30, 2024</a>,\n",
       " <a class=\"w\" href=\"/exchange-rate-history/usd-idr-2024-01-29\">January 29, 2024</a>,\n",
       " <a class=\"w\" href=\"/exchange-rate-history/usd-idr-2024-01-26\">January 26, 2024</a>,\n",
       " <a class=\"w\" href=\"/exchange-rate-history/usd-idr-2024-01-25\">January 25, 2024</a>,\n",
       " <a class=\"w\" href=\"/exchange-rate-history/usd-idr-2024-01-24\">January 24, 2024</a>,\n",
       " <a class=\"w\" href=\"/exchange-rate-history/usd-idr-2024-01-23\">January 23, 2024</a>,\n",
       " <a class=\"w\" href=\"/exchange-rate-history/usd-idr-2024-01-22\">January 22, 2024</a>,\n",
       " <a class=\"w\" href=\"/exchange-rate-history/usd-idr-2024-01-19\">January 19, 2024</a>,\n",
       " <a class=\"w\" href=\"/exchange-rate-history/usd-idr-2024-01-18\">January 18, 2024</a>,\n",
       " <a class=\"w\" href=\"/exchange-rate-history/usd-idr-2024-01-17\">January 17, 2024</a>,\n",
       " <a class=\"w\" href=\"/exchange-rate-history/usd-idr-2024-01-16\">January 16, 2024</a>,\n",
       " <a class=\"w\" href=\"/exchange-rate-history/usd-idr-2024-01-15\">January 15, 2024</a>,\n",
       " <a class=\"w\" href=\"/exchange-rate-history/usd-idr-2024-01-12\">January 12, 2024</a>,\n",
       " <a class=\"w\" href=\"/exchange-rate-history/usd-idr-2024-01-11\">January 11, 2024</a>,\n",
       " <a class=\"w\" href=\"/exchange-rate-history/usd-idr-2024-01-10\">January 10, 2024</a>,\n",
       " <a class=\"w\" href=\"/exchange-rate-history/usd-idr-2024-01-09\">January 9, 2024</a>,\n",
       " <a class=\"w\" href=\"/exchange-rate-history/usd-idr-2024-01-08\">January 8, 2024</a>,\n",
       " <a class=\"w\" href=\"/exchange-rate-history/usd-idr-2024-01-05\">January 5, 2024</a>,\n",
       " <a class=\"w\" href=\"/exchange-rate-history/usd-idr-2024-01-04\">January 4, 2024</a>,\n",
       " <a class=\"w\" href=\"/exchange-rate-history/usd-idr-2024-01-03\">January 3, 2024</a>,\n",
       " <a class=\"w\" href=\"/exchange-rate-history/usd-idr-2024-01-02\">January 2, 2024</a>,\n",
       " <a class=\"w\" href=\"/exchange-rate-history/usd-idr-2024-01-01\">January 1, 2024</a>,\n",
       " <a class=\"w\" href=\"/exchange-rate-history/usd-idr-2023-12-29\">December 29, 2023</a>,\n",
       " <a class=\"w\" href=\"/exchange-rate-history/usd-idr-2023-12-28\">December 28, 2023</a>,\n",
       " <a class=\"w\" href=\"/exchange-rate-history/usd-idr-2023-12-27\">December 27, 2023</a>,\n",
       " <a class=\"w\" href=\"/exchange-rate-history/usd-idr-2023-12-26\">December 26, 2023</a>,\n",
       " <a class=\"w\" href=\"/exchange-rate-history/usd-idr-2023-12-25\">December 25, 2023</a>,\n",
       " <a class=\"w\" href=\"/exchange-rate-history/usd-idr-2023-12-22\">December 22, 2023</a>,\n",
       " <a class=\"w\" href=\"/exchange-rate-history/usd-idr-2023-12-21\">December 21, 2023</a>,\n",
       " <a class=\"w\" href=\"/exchange-rate-history/usd-idr-2023-12-20\">December 20, 2023</a>,\n",
       " <a class=\"w\" href=\"/exchange-rate-history/usd-idr-2023-12-19\">December 19, 2023</a>,\n",
       " <a class=\"w\" href=\"/exchange-rate-history/usd-idr-2023-12-18\">December 18, 2023</a>,\n",
       " <a class=\"w\" href=\"/exchange-rate-history/usd-idr-2023-12-15\">December 15, 2023</a>,\n",
       " <a class=\"w\" href=\"/exchange-rate-history/usd-idr-2023-12-14\">December 14, 2023</a>,\n",
       " <a class=\"w\" href=\"/exchange-rate-history/usd-idr-2023-12-13\">December 13, 2023</a>,\n",
       " <a class=\"w\" href=\"/exchange-rate-history/usd-idr-2023-12-12\">December 12, 2023</a>,\n",
       " <a class=\"w\" href=\"/exchange-rate-history/usd-idr-2023-12-11\">December 11, 2023</a>,\n",
       " <a class=\"w\" href=\"/exchange-rate-history/usd-idr-2023-12-08\">December 8, 2023</a>,\n",
       " <a class=\"w\" href=\"/exchange-rate-history/usd-idr-2023-12-07\">December 7, 2023</a>,\n",
       " <a class=\"w\" href=\"/exchange-rate-history/usd-idr-2023-12-06\">December 6, 2023</a>,\n",
       " <a class=\"w\" href=\"/exchange-rate-history/usd-idr-2023-12-05\">December 5, 2023</a>,\n",
       " <a class=\"w\" href=\"/exchange-rate-history/usd-idr-2023-12-04\">December 4, 2023</a>,\n",
       " <a class=\"w\" href=\"/exchange-rate-history/usd-idr-2023-12-01\">December 1, 2023</a>,\n",
       " <a class=\"w\" href=\"/exchange-rate-history/usd-idr-2023-11-30\">November 30, 2023</a>,\n",
       " <a class=\"w\" href=\"/exchange-rate-history/usd-idr-2023-11-29\">November 29, 2023</a>,\n",
       " <a class=\"w\" href=\"/exchange-rate-history/usd-idr-2023-11-28\">November 28, 2023</a>,\n",
       " <a class=\"w\" href=\"/exchange-rate-history/usd-idr-2023-11-27\">November 27, 2023</a>,\n",
       " <a class=\"w\" href=\"/exchange-rate-history/usd-idr-2023-11-24\">November 24, 2023</a>,\n",
       " <a class=\"w\" href=\"/exchange-rate-history/usd-idr-2023-11-23\">November 23, 2023</a>,\n",
       " <a class=\"w\" href=\"/exchange-rate-history/usd-idr-2023-11-22\">November 22, 2023</a>,\n",
       " <a class=\"w\" href=\"/exchange-rate-history/usd-idr-2023-11-21\">November 21, 2023</a>,\n",
       " <a class=\"w\" href=\"/exchange-rate-history/usd-idr-2023-11-20\">November 20, 2023</a>,\n",
       " <a class=\"w\" href=\"/exchange-rate-history/usd-idr-2023-11-17\">November 17, 2023</a>,\n",
       " <a class=\"w\" href=\"/exchange-rate-history/usd-idr-2023-11-16\">November 16, 2023</a>,\n",
       " <a class=\"w\" href=\"/exchange-rate-history/usd-idr-2023-11-15\">November 15, 2023</a>,\n",
       " <a class=\"w\" href=\"/exchange-rate-history/usd-idr-2023-11-14\">November 14, 2023</a>,\n",
       " <a class=\"w\" href=\"/exchange-rate-history/usd-idr-2023-11-13\">November 13, 2023</a>,\n",
       " <a class=\"w\" href=\"/exchange-rate-history/usd-idr-2023-11-10\">November 10, 2023</a>,\n",
       " <a class=\"w\" href=\"/exchange-rate-history/usd-idr-2023-11-09\">November 9, 2023</a>,\n",
       " <a class=\"w\" href=\"/exchange-rate-history/usd-idr-2023-11-08\">November 8, 2023</a>,\n",
       " <a class=\"w\" href=\"/exchange-rate-history/usd-idr-2023-11-07\">November 7, 2023</a>,\n",
       " <a class=\"w\" href=\"/exchange-rate-history/usd-idr-2023-11-06\">November 6, 2023</a>,\n",
       " <a class=\"w\" href=\"/exchange-rate-history/usd-idr-2023-11-03\">November 3, 2023</a>,\n",
       " <a class=\"w\" href=\"/exchange-rate-history/usd-idr-2023-11-02\">November 2, 2023</a>,\n",
       " <a class=\"w\" href=\"/exchange-rate-history/usd-idr-2023-11-01\">November 1, 2023</a>,\n",
       " <a class=\"w\" href=\"/exchange-rate-history/usd-idr-2023-10-31\">October 31, 2023</a>,\n",
       " <a class=\"w\" href=\"/exchange-rate-history/usd-idr-2023-10-30\">October 30, 2023</a>]"
      ]
     },
     "execution_count": 10,
     "metadata": {},
     "output_type": "execute_result"
    }
   ],
   "source": [
    "# Re-check the column values\n",
    "table.find_all('a', class_='w')"
   ]
  },
  {
   "cell_type": "code",
   "execution_count": 11,
   "metadata": {},
   "outputs": [
    {
     "data": {
      "text/plain": [
       "[<span class=\"w\"><span class=\"nowrap\"><span class=\"currencySymbol\">$</span>1 =</span> <span class=\"nowrap\"><span class=\"currencySymbol\">Rp</span>16,241</span></span>,\n",
       " <span class=\"w\"><span class=\"nowrap\"><span class=\"currencySymbol\">$</span>1 =</span> <span class=\"nowrap\"><span class=\"currencySymbol\">Rp</span>16,193</span></span>,\n",
       " <span class=\"w\"><span class=\"nowrap\"><span class=\"currencySymbol\">$</span>1 =</span> <span class=\"nowrap\"><span class=\"currencySymbol\">Rp</span>16,212</span></span>,\n",
       " <span class=\"w\"><span class=\"nowrap\"><span class=\"currencySymbol\">$</span>1 =</span> <span class=\"nowrap\"><span class=\"currencySymbol\">Rp</span>16,143</span></span>,\n",
       " <span class=\"w\"><span class=\"nowrap\"><span class=\"currencySymbol\">$</span>1 =</span> <span class=\"nowrap\"><span class=\"currencySymbol\">Rp</span>16,238</span></span>,\n",
       " <span class=\"w\"><span class=\"nowrap\"><span class=\"currencySymbol\">$</span>1 =</span> <span class=\"nowrap\"><span class=\"currencySymbol\">Rp</span>16,218</span></span>,\n",
       " <span class=\"w\"><span class=\"nowrap\"><span class=\"currencySymbol\">$</span>1 =</span> <span class=\"nowrap\"><span class=\"currencySymbol\">Rp</span>16,210</span></span>,\n",
       " <span class=\"w\"><span class=\"nowrap\"><span class=\"currencySymbol\">$</span>1 =</span> <span class=\"nowrap\"><span class=\"currencySymbol\">Rp</span>16,243</span></span>,\n",
       " <span class=\"w\"><span class=\"nowrap\"><span class=\"currencySymbol\">$</span>1 =</span> <span class=\"nowrap\"><span class=\"currencySymbol\">Rp</span>16,303</span></span>,\n",
       " <span class=\"w\"><span class=\"nowrap\"><span class=\"currencySymbol\">$</span>1 =</span> <span class=\"nowrap\"><span class=\"currencySymbol\">Rp</span>16,083</span></span>,\n",
       " <span class=\"w\"><span class=\"nowrap\"><span class=\"currencySymbol\">$</span>1 =</span> <span class=\"nowrap\"><span class=\"currencySymbol\">Rp</span>16,118</span></span>,\n",
       " <span class=\"w\"><span class=\"nowrap\"><span class=\"currencySymbol\">$</span>1 =</span> <span class=\"nowrap\"><span class=\"currencySymbol\">Rp</span>16,011</span></span>,\n",
       " <span class=\"w\"><span class=\"nowrap\"><span class=\"currencySymbol\">$</span>1 =</span> <span class=\"nowrap\"><span class=\"currencySymbol\">Rp</span>16,001</span></span>,\n",
       " <span class=\"w\"><span class=\"nowrap\"><span class=\"currencySymbol\">$</span>1 =</span> <span class=\"nowrap\"><span class=\"currencySymbol\">Rp</span>15,892</span></span>,\n",
       " <span class=\"w\"><span class=\"nowrap\"><span class=\"currencySymbol\">$</span>1 =</span> <span class=\"nowrap\"><span class=\"currencySymbol\">Rp</span>15,912</span></span>,\n",
       " <span class=\"w\"><span class=\"nowrap\"><span class=\"currencySymbol\">$</span>1 =</span> <span class=\"nowrap\"><span class=\"currencySymbol\">Rp</span>15,888</span></span>,\n",
       " <span class=\"w\"><span class=\"nowrap\"><span class=\"currencySymbol\">$</span>1 =</span> <span class=\"nowrap\"><span class=\"currencySymbol\">Rp</span>15,896</span></span>,\n",
       " <span class=\"w\"><span class=\"nowrap\"><span class=\"currencySymbol\">$</span>1 =</span> <span class=\"nowrap\"><span class=\"currencySymbol\">Rp</span>15,942</span></span>,\n",
       " <span class=\"w\"><span class=\"nowrap\"><span class=\"currencySymbol\">$</span>1 =</span> <span class=\"nowrap\"><span class=\"currencySymbol\">Rp</span>15,952</span></span>,\n",
       " <span class=\"w\"><span class=\"nowrap\"><span class=\"currencySymbol\">$</span>1 =</span> <span class=\"nowrap\"><span class=\"currencySymbol\">Rp</span>15,951</span></span>,\n",
       " <span class=\"w\"><span class=\"nowrap\"><span class=\"currencySymbol\">$</span>1 =</span> <span class=\"nowrap\"><span class=\"currencySymbol\">Rp</span>15,880</span></span>,\n",
       " <span class=\"w\"><span class=\"nowrap\"><span class=\"currencySymbol\">$</span>1 =</span> <span class=\"nowrap\"><span class=\"currencySymbol\">Rp</span>15,891</span></span>,\n",
       " <span class=\"w\"><span class=\"nowrap\"><span class=\"currencySymbol\">$</span>1 =</span> <span class=\"nowrap\"><span class=\"currencySymbol\">Rp</span>15,901</span></span>,\n",
       " <span class=\"w\"><span class=\"nowrap\"><span class=\"currencySymbol\">$</span>1 =</span> <span class=\"nowrap\"><span class=\"currencySymbol\">Rp</span>15,821</span></span>,\n",
       " <span class=\"w\"><span class=\"nowrap\"><span class=\"currencySymbol\">$</span>1 =</span> <span class=\"nowrap\"><span class=\"currencySymbol\">Rp</span>15,784</span></span>,\n",
       " <span class=\"w\"><span class=\"nowrap\"><span class=\"currencySymbol\">$</span>1 =</span> <span class=\"nowrap\"><span class=\"currencySymbol\">Rp</span>15,814</span></span>,\n",
       " <span class=\"w\"><span class=\"nowrap\"><span class=\"currencySymbol\">$</span>1 =</span> <span class=\"nowrap\"><span class=\"currencySymbol\">Rp</span>15,727</span></span>,\n",
       " <span class=\"w\"><span class=\"nowrap\"><span class=\"currencySymbol\">$</span>1 =</span> <span class=\"nowrap\"><span class=\"currencySymbol\">Rp</span>15,697</span></span>,\n",
       " <span class=\"w\"><span class=\"nowrap\"><span class=\"currencySymbol\">$</span>1 =</span> <span class=\"nowrap\"><span class=\"currencySymbol\">Rp</span>15,723</span></span>,\n",
       " <span class=\"w\"><span class=\"nowrap\"><span class=\"currencySymbol\">$</span>1 =</span> <span class=\"nowrap\"><span class=\"currencySymbol\">Rp</span>15,742</span></span>,\n",
       " <span class=\"w\"><span class=\"nowrap\"><span class=\"currencySymbol\">$</span>1 =</span> <span class=\"nowrap\"><span class=\"currencySymbol\">Rp</span>15,647</span></span>,\n",
       " <span class=\"w\"><span class=\"nowrap\"><span class=\"currencySymbol\">$</span>1 =</span> <span class=\"nowrap\"><span class=\"currencySymbol\">Rp</span>15,638</span></span>,\n",
       " <span class=\"w\"><span class=\"nowrap\"><span class=\"currencySymbol\">$</span>1 =</span> <span class=\"nowrap\"><span class=\"currencySymbol\">Rp</span>15,580</span></span>,\n",
       " <span class=\"w\"><span class=\"nowrap\"><span class=\"currencySymbol\">$</span>1 =</span> <span class=\"nowrap\"><span class=\"currencySymbol\">Rp</span>15,560</span></span>,\n",
       " <span class=\"w\"><span class=\"nowrap\"><span class=\"currencySymbol\">$</span>1 =</span> <span class=\"nowrap\"><span class=\"currencySymbol\">Rp</span>15,525</span></span>,\n",
       " <span class=\"w\"><span class=\"nowrap\"><span class=\"currencySymbol\">$</span>1 =</span> <span class=\"nowrap\"><span class=\"currencySymbol\">Rp</span>15,541</span></span>,\n",
       " <span class=\"w\"><span class=\"nowrap\"><span class=\"currencySymbol\">$</span>1 =</span> <span class=\"nowrap\"><span class=\"currencySymbol\">Rp</span>15,627</span></span>,\n",
       " <span class=\"w\"><span class=\"nowrap\"><span class=\"currencySymbol\">$</span>1 =</span> <span class=\"nowrap\"><span class=\"currencySymbol\">Rp</span>15,660</span></span>,\n",
       " <span class=\"w\"><span class=\"nowrap\"><span class=\"currencySymbol\">$</span>1 =</span> <span class=\"nowrap\"><span class=\"currencySymbol\">Rp</span>15,743</span></span>,\n",
       " <span class=\"w\"><span class=\"nowrap\"><span class=\"currencySymbol\">$</span>1 =</span> <span class=\"nowrap\"><span class=\"currencySymbol\">Rp</span>15,760</span></span>,\n",
       " <span class=\"w\"><span class=\"nowrap\"><span class=\"currencySymbol\">$</span>1 =</span> <span class=\"nowrap\"><span class=\"currencySymbol\">Rp</span>15,702</span></span>,\n",
       " <span class=\"w\"><span class=\"nowrap\"><span class=\"currencySymbol\">$</span>1 =</span> <span class=\"nowrap\"><span class=\"currencySymbol\">Rp</span>15,712</span></span>,\n",
       " <span class=\"w\"><span class=\"nowrap\"><span class=\"currencySymbol\">$</span>1 =</span> <span class=\"nowrap\"><span class=\"currencySymbol\">Rp</span>15,731</span></span>,\n",
       " <span class=\"w\"><span class=\"nowrap\"><span class=\"currencySymbol\">$</span>1 =</span> <span class=\"nowrap\"><span class=\"currencySymbol\">Rp</span>15,673</span></span>,\n",
       " <span class=\"w\"><span class=\"nowrap\"><span class=\"currencySymbol\">$</span>1 =</span> <span class=\"nowrap\"><span class=\"currencySymbol\">Rp</span>15,634</span></span>,\n",
       " <span class=\"w\"><span class=\"nowrap\"><span class=\"currencySymbol\">$</span>1 =</span> <span class=\"nowrap\"><span class=\"currencySymbol\">Rp</span>15,594</span></span>,\n",
       " <span class=\"w\"><span class=\"nowrap\"><span class=\"currencySymbol\">$</span>1 =</span> <span class=\"nowrap\"><span class=\"currencySymbol\">Rp</span>15,594</span></span>,\n",
       " <span class=\"w\"><span class=\"nowrap\"><span class=\"currencySymbol\">$</span>1 =</span> <span class=\"nowrap\"><span class=\"currencySymbol\">Rp</span>15,658</span></span>,\n",
       " <span class=\"w\"><span class=\"nowrap\"><span class=\"currencySymbol\">$</span>1 =</span> <span class=\"nowrap\"><span class=\"currencySymbol\">Rp</span>15,657</span></span>,\n",
       " <span class=\"w\"><span class=\"nowrap\"><span class=\"currencySymbol\">$</span>1 =</span> <span class=\"nowrap\"><span class=\"currencySymbol\">Rp</span>15,643</span></span>,\n",
       " <span class=\"w\"><span class=\"nowrap\"><span class=\"currencySymbol\">$</span>1 =</span> <span class=\"nowrap\"><span class=\"currencySymbol\">Rp</span>15,656</span></span>,\n",
       " <span class=\"w\"><span class=\"nowrap\"><span class=\"currencySymbol\">$</span>1 =</span> <span class=\"nowrap\"><span class=\"currencySymbol\">Rp</span>15,679</span></span>,\n",
       " <span class=\"w\"><span class=\"nowrap\"><span class=\"currencySymbol\">$</span>1 =</span> <span class=\"nowrap\"><span class=\"currencySymbol\">Rp</span>15,646</span></span>,\n",
       " <span class=\"w\"><span class=\"nowrap\"><span class=\"currencySymbol\">$</span>1 =</span> <span class=\"nowrap\"><span class=\"currencySymbol\">Rp</span>15,671</span></span>,\n",
       " <span class=\"w\"><span class=\"nowrap\"><span class=\"currencySymbol\">$</span>1 =</span> <span class=\"nowrap\"><span class=\"currencySymbol\">Rp</span>15,581</span></span>,\n",
       " <span class=\"w\"><span class=\"nowrap\"><span class=\"currencySymbol\">$</span>1 =</span> <span class=\"nowrap\"><span class=\"currencySymbol\">Rp</span>15,611</span></span>,\n",
       " <span class=\"w\"><span class=\"nowrap\"><span class=\"currencySymbol\">$</span>1 =</span> <span class=\"nowrap\"><span class=\"currencySymbol\">Rp</span>15,665</span></span>,\n",
       " <span class=\"w\"><span class=\"nowrap\"><span class=\"currencySymbol\">$</span>1 =</span> <span class=\"nowrap\"><span class=\"currencySymbol\">Rp</span>15,653</span></span>,\n",
       " <span class=\"w\"><span class=\"nowrap\"><span class=\"currencySymbol\">$</span>1 =</span> <span class=\"nowrap\"><span class=\"currencySymbol\">Rp</span>15,738</span></span>,\n",
       " <span class=\"w\"><span class=\"nowrap\"><span class=\"currencySymbol\">$</span>1 =</span> <span class=\"nowrap\"><span class=\"currencySymbol\">Rp</span>15,775</span></span>,\n",
       " <span class=\"w\"><span class=\"nowrap\"><span class=\"currencySymbol\">$</span>1 =</span> <span class=\"nowrap\"><span class=\"currencySymbol\">Rp</span>15,731</span></span>,\n",
       " <span class=\"w\"><span class=\"nowrap\"><span class=\"currencySymbol\">$</span>1 =</span> <span class=\"nowrap\"><span class=\"currencySymbol\">Rp</span>15,733</span></span>,\n",
       " <span class=\"w\"><span class=\"nowrap\"><span class=\"currencySymbol\">$</span>1 =</span> <span class=\"nowrap\"><span class=\"currencySymbol\">Rp</span>15,768</span></span>,\n",
       " <span class=\"w\"><span class=\"nowrap\"><span class=\"currencySymbol\">$</span>1 =</span> <span class=\"nowrap\"><span class=\"currencySymbol\">Rp</span>15,791</span></span>,\n",
       " <span class=\"w\"><span class=\"nowrap\"><span class=\"currencySymbol\">$</span>1 =</span> <span class=\"nowrap\"><span class=\"currencySymbol\">Rp</span>15,835</span></span>,\n",
       " <span class=\"w\"><span class=\"nowrap\"><span class=\"currencySymbol\">$</span>1 =</span> <span class=\"nowrap\"><span class=\"currencySymbol\">Rp</span>15,775</span></span>,\n",
       " <span class=\"w\"><span class=\"nowrap\"><span class=\"currencySymbol\">$</span>1 =</span> <span class=\"nowrap\"><span class=\"currencySymbol\">Rp</span>15,820</span></span>,\n",
       " <span class=\"w\"><span class=\"nowrap\"><span class=\"currencySymbol\">$</span>1 =</span> <span class=\"nowrap\"><span class=\"currencySymbol\">Rp</span>15,720</span></span>,\n",
       " <span class=\"w\"><span class=\"nowrap\"><span class=\"currencySymbol\">$</span>1 =</span> <span class=\"nowrap\"><span class=\"currencySymbol\">Rp</span>15,726</span></span>,\n",
       " <span class=\"w\"><span class=\"nowrap\"><span class=\"currencySymbol\">$</span>1 =</span> <span class=\"nowrap\"><span class=\"currencySymbol\">Rp</span>15,661</span></span>,\n",
       " <span class=\"w\"><span class=\"nowrap\"><span class=\"currencySymbol\">$</span>1 =</span> <span class=\"nowrap\"><span class=\"currencySymbol\">Rp</span>15,620</span></span>,\n",
       " <span class=\"w\"><span class=\"nowrap\"><span class=\"currencySymbol\">$</span>1 =</span> <span class=\"nowrap\"><span class=\"currencySymbol\">Rp</span>15,621</span></span>,\n",
       " <span class=\"w\"><span class=\"nowrap\"><span class=\"currencySymbol\">$</span>1 =</span> <span class=\"nowrap\"><span class=\"currencySymbol\">Rp</span>15,638</span></span>,\n",
       " <span class=\"w\"><span class=\"nowrap\"><span class=\"currencySymbol\">$</span>1 =</span> <span class=\"nowrap\"><span class=\"currencySymbol\">Rp</span>15,632</span></span>,\n",
       " <span class=\"w\"><span class=\"nowrap\"><span class=\"currencySymbol\">$</span>1 =</span> <span class=\"nowrap\"><span class=\"currencySymbol\">Rp</span>15,553</span></span>,\n",
       " <span class=\"w\"><span class=\"nowrap\"><span class=\"currencySymbol\">$</span>1 =</span> <span class=\"nowrap\"><span class=\"currencySymbol\">Rp</span>15,538</span></span>,\n",
       " <span class=\"w\"><span class=\"nowrap\"><span class=\"currencySymbol\">$</span>1 =</span> <span class=\"nowrap\"><span class=\"currencySymbol\">Rp</span>15,563</span></span>,\n",
       " <span class=\"w\"><span class=\"nowrap\"><span class=\"currencySymbol\">$</span>1 =</span> <span class=\"nowrap\"><span class=\"currencySymbol\">Rp</span>15,563</span></span>,\n",
       " <span class=\"w\"><span class=\"nowrap\"><span class=\"currencySymbol\">$</span>1 =</span> <span class=\"nowrap\"><span class=\"currencySymbol\">Rp</span>15,536</span></span>,\n",
       " <span class=\"w\"><span class=\"nowrap\"><span class=\"currencySymbol\">$</span>1 =</span> <span class=\"nowrap\"><span class=\"currencySymbol\">Rp</span>15,507</span></span>,\n",
       " <span class=\"w\"><span class=\"nowrap\"><span class=\"currencySymbol\">$</span>1 =</span> <span class=\"nowrap\"><span class=\"currencySymbol\">Rp</span>15,503</span></span>,\n",
       " <span class=\"w\"><span class=\"nowrap\"><span class=\"currencySymbol\">$</span>1 =</span> <span class=\"nowrap\"><span class=\"currencySymbol\">Rp</span>15,518</span></span>,\n",
       " <span class=\"w\"><span class=\"nowrap\"><span class=\"currencySymbol\">$</span>1 =</span> <span class=\"nowrap\"><span class=\"currencySymbol\">Rp</span>15,562</span></span>,\n",
       " <span class=\"w\"><span class=\"nowrap\"><span class=\"currencySymbol\">$</span>1 =</span> <span class=\"nowrap\"><span class=\"currencySymbol\">Rp</span>15,499</span></span>,\n",
       " <span class=\"w\"><span class=\"nowrap\"><span class=\"currencySymbol\">$</span>1 =</span> <span class=\"nowrap\"><span class=\"currencySymbol\">Rp</span>15,390</span></span>,\n",
       " <span class=\"w\"><span class=\"nowrap\"><span class=\"currencySymbol\">$</span>1 =</span> <span class=\"nowrap\"><span class=\"currencySymbol\">Rp</span>15,390</span></span>,\n",
       " <span class=\"w\"><span class=\"nowrap\"><span class=\"currencySymbol\">$</span>1 =</span> <span class=\"nowrap\"><span class=\"currencySymbol\">Rp</span>15,461</span></span>,\n",
       " <span class=\"w\"><span class=\"nowrap\"><span class=\"currencySymbol\">$</span>1 =</span> <span class=\"nowrap\"><span class=\"currencySymbol\">Rp</span>15,380</span></span>,\n",
       " <span class=\"w\"><span class=\"nowrap\"><span class=\"currencySymbol\">$</span>1 =</span> <span class=\"nowrap\"><span class=\"currencySymbol\">Rp</span>15,408</span></span>,\n",
       " <span class=\"w\"><span class=\"nowrap\"><span class=\"currencySymbol\">$</span>1 =</span> <span class=\"nowrap\"><span class=\"currencySymbol\">Rp</span>15,468</span></span>,\n",
       " <span class=\"w\"><span class=\"nowrap\"><span class=\"currencySymbol\">$</span>1 =</span> <span class=\"nowrap\"><span class=\"currencySymbol\">Rp</span>15,467</span></span>,\n",
       " <span class=\"w\"><span class=\"nowrap\"><span class=\"currencySymbol\">$</span>1 =</span> <span class=\"nowrap\"><span class=\"currencySymbol\">Rp</span>15,445</span></span>,\n",
       " <span class=\"w\"><span class=\"nowrap\"><span class=\"currencySymbol\">$</span>1 =</span> <span class=\"nowrap\"><span class=\"currencySymbol\">Rp</span>15,606</span></span>,\n",
       " <span class=\"w\"><span class=\"nowrap\"><span class=\"currencySymbol\">$</span>1 =</span> <span class=\"nowrap\"><span class=\"currencySymbol\">Rp</span>15,462</span></span>,\n",
       " <span class=\"w\"><span class=\"nowrap\"><span class=\"currencySymbol\">$</span>1 =</span> <span class=\"nowrap\"><span class=\"currencySymbol\">Rp</span>15,452</span></span>,\n",
       " <span class=\"w\"><span class=\"nowrap\"><span class=\"currencySymbol\">$</span>1 =</span> <span class=\"nowrap\"><span class=\"currencySymbol\">Rp</span>15,529</span></span>,\n",
       " <span class=\"w\"><span class=\"nowrap\"><span class=\"currencySymbol\">$</span>1 =</span> <span class=\"nowrap\"><span class=\"currencySymbol\">Rp</span>15,476</span></span>,\n",
       " <span class=\"w\"><span class=\"nowrap\"><span class=\"currencySymbol\">$</span>1 =</span> <span class=\"nowrap\"><span class=\"currencySymbol\">Rp</span>15,360</span></span>,\n",
       " <span class=\"w\"><span class=\"nowrap\"><span class=\"currencySymbol\">$</span>1 =</span> <span class=\"nowrap\"><span class=\"currencySymbol\">Rp</span>15,576</span></span>,\n",
       " <span class=\"w\"><span class=\"nowrap\"><span class=\"currencySymbol\">$</span>1 =</span> <span class=\"nowrap\"><span class=\"currencySymbol\">Rp</span>15,653</span></span>,\n",
       " <span class=\"w\"><span class=\"nowrap\"><span class=\"currencySymbol\">$</span>1 =</span> <span class=\"nowrap\"><span class=\"currencySymbol\">Rp</span>15,573</span></span>,\n",
       " <span class=\"w\"><span class=\"nowrap\"><span class=\"currencySymbol\">$</span>1 =</span> <span class=\"nowrap\"><span class=\"currencySymbol\">Rp</span>15,507</span></span>,\n",
       " <span class=\"w\"><span class=\"nowrap\"><span class=\"currencySymbol\">$</span>1 =</span> <span class=\"nowrap\"><span class=\"currencySymbol\">Rp</span>15,514</span></span>,\n",
       " <span class=\"w\"><span class=\"nowrap\"><span class=\"currencySymbol\">$</span>1 =</span> <span class=\"nowrap\"><span class=\"currencySymbol\">Rp</span>15,463</span></span>,\n",
       " <span class=\"w\"><span class=\"nowrap\"><span class=\"currencySymbol\">$</span>1 =</span> <span class=\"nowrap\"><span class=\"currencySymbol\">Rp</span>15,485</span></span>,\n",
       " <span class=\"w\"><span class=\"nowrap\"><span class=\"currencySymbol\">$</span>1 =</span> <span class=\"nowrap\"><span class=\"currencySymbol\">Rp</span>15,413</span></span>,\n",
       " <span class=\"w\"><span class=\"nowrap\"><span class=\"currencySymbol\">$</span>1 =</span> <span class=\"nowrap\"><span class=\"currencySymbol\">Rp</span>15,559</span></span>,\n",
       " <span class=\"w\"><span class=\"nowrap\"><span class=\"currencySymbol\">$</span>1 =</span> <span class=\"nowrap\"><span class=\"currencySymbol\">Rp</span>15,459</span></span>,\n",
       " <span class=\"w\"><span class=\"nowrap\"><span class=\"currencySymbol\">$</span>1 =</span> <span class=\"nowrap\"><span class=\"currencySymbol\">Rp</span>15,352</span></span>,\n",
       " <span class=\"w\"><span class=\"nowrap\"><span class=\"currencySymbol\">$</span>1 =</span> <span class=\"nowrap\"><span class=\"currencySymbol\">Rp</span>15,505</span></span>,\n",
       " <span class=\"w\"><span class=\"nowrap\"><span class=\"currencySymbol\">$</span>1 =</span> <span class=\"nowrap\"><span class=\"currencySymbol\">Rp</span>15,540</span></span>,\n",
       " <span class=\"w\"><span class=\"nowrap\"><span class=\"currencySymbol\">$</span>1 =</span> <span class=\"nowrap\"><span class=\"currencySymbol\">Rp</span>15,633</span></span>,\n",
       " <span class=\"w\"><span class=\"nowrap\"><span class=\"currencySymbol\">$</span>1 =</span> <span class=\"nowrap\"><span class=\"currencySymbol\">Rp</span>15,656</span></span>,\n",
       " <span class=\"w\"><span class=\"nowrap\"><span class=\"currencySymbol\">$</span>1 =</span> <span class=\"nowrap\"><span class=\"currencySymbol\">Rp</span>15,517</span></span>,\n",
       " <span class=\"w\"><span class=\"nowrap\"><span class=\"currencySymbol\">$</span>1 =</span> <span class=\"nowrap\"><span class=\"currencySymbol\">Rp</span>15,389</span></span>,\n",
       " <span class=\"w\"><span class=\"nowrap\"><span class=\"currencySymbol\">$</span>1 =</span> <span class=\"nowrap\"><span class=\"currencySymbol\">Rp</span>15,424</span></span>,\n",
       " <span class=\"w\"><span class=\"nowrap\"><span class=\"currencySymbol\">$</span>1 =</span> <span class=\"nowrap\"><span class=\"currencySymbol\">Rp</span>15,484</span></span>,\n",
       " <span class=\"w\"><span class=\"nowrap\"><span class=\"currencySymbol\">$</span>1 =</span> <span class=\"nowrap\"><span class=\"currencySymbol\">Rp</span>15,519</span></span>,\n",
       " <span class=\"w\"><span class=\"nowrap\"><span class=\"currencySymbol\">$</span>1 =</span> <span class=\"nowrap\"><span class=\"currencySymbol\">Rp</span>15,459</span></span>,\n",
       " <span class=\"w\"><span class=\"nowrap\"><span class=\"currencySymbol\">$</span>1 =</span> <span class=\"nowrap\"><span class=\"currencySymbol\">Rp</span>15,683</span></span>,\n",
       " <span class=\"w\"><span class=\"nowrap\"><span class=\"currencySymbol\">$</span>1 =</span> <span class=\"nowrap\"><span class=\"currencySymbol\">Rp</span>15,694</span></span>,\n",
       " <span class=\"w\"><span class=\"nowrap\"><span class=\"currencySymbol\">$</span>1 =</span> <span class=\"nowrap\"><span class=\"currencySymbol\">Rp</span>15,715</span></span>,\n",
       " <span class=\"w\"><span class=\"nowrap\"><span class=\"currencySymbol\">$</span>1 =</span> <span class=\"nowrap\"><span class=\"currencySymbol\">Rp</span>15,625</span></span>,\n",
       " <span class=\"w\"><span class=\"nowrap\"><span class=\"currencySymbol\">$</span>1 =</span> <span class=\"nowrap\"><span class=\"currencySymbol\">Rp</span>15,651</span></span>,\n",
       " <span class=\"w\"><span class=\"nowrap\"><span class=\"currencySymbol\">$</span>1 =</span> <span class=\"nowrap\"><span class=\"currencySymbol\">Rp</span>15,577</span></span>,\n",
       " <span class=\"w\"><span class=\"nowrap\"><span class=\"currencySymbol\">$</span>1 =</span> <span class=\"nowrap\"><span class=\"currencySymbol\">Rp</span>15,589</span></span>,\n",
       " <span class=\"w\"><span class=\"nowrap\"><span class=\"currencySymbol\">$</span>1 =</span> <span class=\"nowrap\"><span class=\"currencySymbol\">Rp</span>15,852</span></span>,\n",
       " <span class=\"w\"><span class=\"nowrap\"><span class=\"currencySymbol\">$</span>1 =</span> <span class=\"nowrap\"><span class=\"currencySymbol\">Rp</span>15,899</span></span>,\n",
       " <span class=\"w\"><span class=\"nowrap\"><span class=\"currencySymbol\">$</span>1 =</span> <span class=\"nowrap\"><span class=\"currencySymbol\">Rp</span>15,919</span></span>,\n",
       " <span class=\"w\"><span class=\"nowrap\"><span class=\"currencySymbol\">$</span>1 =</span> <span class=\"nowrap\"><span class=\"currencySymbol\">Rp</span>15,854</span></span>]"
      ]
     },
     "execution_count": 11,
     "metadata": {},
     "output_type": "execute_result"
    }
   ],
   "source": [
    "# Re-check the column values\n",
    "table.find_all(\"span\", class_='w')"
   ]
  },
  {
   "cell_type": "code",
   "execution_count": 12,
   "metadata": {
    "ExecuteTime": {
     "end_time": "2020-01-13T05:12:24.008256Z",
     "start_time": "2020-01-13T05:12:23.980358Z"
    }
   },
   "outputs": [
    {
     "data": {
      "text/plain": [
       "[('April 26, 2024', '$1 = Rp16,241'),\n",
       " ('April 25, 2024', '$1 = Rp16,193'),\n",
       " ('April 24, 2024', '$1 = Rp16,212'),\n",
       " ('April 23, 2024', '$1 = Rp16,143'),\n",
       " ('April 22, 2024', '$1 = Rp16,238'),\n",
       " ('April 19, 2024', '$1 = Rp16,218'),\n",
       " ('April 18, 2024', '$1 = Rp16,210'),\n",
       " ('April 17, 2024', '$1 = Rp16,243'),\n",
       " ('April 16, 2024', '$1 = Rp16,303'),\n",
       " ('April 15, 2024', '$1 = Rp16,083'),\n",
       " ('April 12, 2024', '$1 = Rp16,118'),\n",
       " ('April 11, 2024', '$1 = Rp16,011'),\n",
       " ('April 10, 2024', '$1 = Rp16,001'),\n",
       " ('April 9, 2024', '$1 = Rp15,892'),\n",
       " ('April 8, 2024', '$1 = Rp15,912'),\n",
       " ('April 5, 2024', '$1 = Rp15,888'),\n",
       " ('April 4, 2024', '$1 = Rp15,896'),\n",
       " ('April 3, 2024', '$1 = Rp15,942'),\n",
       " ('April 2, 2024', '$1 = Rp15,952'),\n",
       " ('April 1, 2024', '$1 = Rp15,951'),\n",
       " ('March 29, 2024', '$1 = Rp15,880'),\n",
       " ('March 28, 2024', '$1 = Rp15,891'),\n",
       " ('March 27, 2024', '$1 = Rp15,901'),\n",
       " ('March 26, 2024', '$1 = Rp15,821'),\n",
       " ('March 25, 2024', '$1 = Rp15,784'),\n",
       " ('March 22, 2024', '$1 = Rp15,814'),\n",
       " ('March 21, 2024', '$1 = Rp15,727'),\n",
       " ('March 20, 2024', '$1 = Rp15,697'),\n",
       " ('March 19, 2024', '$1 = Rp15,723'),\n",
       " ('March 18, 2024', '$1 = Rp15,742'),\n",
       " ('March 15, 2024', '$1 = Rp15,647'),\n",
       " ('March 14, 2024', '$1 = Rp15,638'),\n",
       " ('March 13, 2024', '$1 = Rp15,580'),\n",
       " ('March 12, 2024', '$1 = Rp15,560'),\n",
       " ('March 11, 2024', '$1 = Rp15,525'),\n",
       " ('March 8, 2024', '$1 = Rp15,541'),\n",
       " ('March 7, 2024', '$1 = Rp15,627'),\n",
       " ('March 6, 2024', '$1 = Rp15,660'),\n",
       " ('March 5, 2024', '$1 = Rp15,743'),\n",
       " ('March 4, 2024', '$1 = Rp15,760'),\n",
       " ('March 1, 2024', '$1 = Rp15,702'),\n",
       " ('February 29, 2024', '$1 = Rp15,712'),\n",
       " ('February 28, 2024', '$1 = Rp15,731'),\n",
       " ('February 27, 2024', '$1 = Rp15,673'),\n",
       " ('February 26, 2024', '$1 = Rp15,634'),\n",
       " ('February 23, 2024', '$1 = Rp15,594'),\n",
       " ('February 22, 2024', '$1 = Rp15,594'),\n",
       " ('February 21, 2024', '$1 = Rp15,658'),\n",
       " ('February 20, 2024', '$1 = Rp15,657'),\n",
       " ('February 19, 2024', '$1 = Rp15,643'),\n",
       " ('February 16, 2024', '$1 = Rp15,656'),\n",
       " ('February 15, 2024', '$1 = Rp15,679'),\n",
       " ('February 14, 2024', '$1 = Rp15,646'),\n",
       " ('February 13, 2024', '$1 = Rp15,671'),\n",
       " ('February 12, 2024', '$1 = Rp15,581'),\n",
       " ('February 9, 2024', '$1 = Rp15,611'),\n",
       " ('February 8, 2024', '$1 = Rp15,665'),\n",
       " ('February 7, 2024', '$1 = Rp15,653'),\n",
       " ('February 6, 2024', '$1 = Rp15,738'),\n",
       " ('February 5, 2024', '$1 = Rp15,775'),\n",
       " ('February 2, 2024', '$1 = Rp15,731'),\n",
       " ('February 1, 2024', '$1 = Rp15,733'),\n",
       " ('January 31, 2024', '$1 = Rp15,768'),\n",
       " ('January 30, 2024', '$1 = Rp15,791'),\n",
       " ('January 29, 2024', '$1 = Rp15,835'),\n",
       " ('January 26, 2024', '$1 = Rp15,775'),\n",
       " ('January 25, 2024', '$1 = Rp15,820'),\n",
       " ('January 24, 2024', '$1 = Rp15,720'),\n",
       " ('January 23, 2024', '$1 = Rp15,726'),\n",
       " ('January 22, 2024', '$1 = Rp15,661'),\n",
       " ('January 19, 2024', '$1 = Rp15,620'),\n",
       " ('January 18, 2024', '$1 = Rp15,621'),\n",
       " ('January 17, 2024', '$1 = Rp15,638'),\n",
       " ('January 16, 2024', '$1 = Rp15,632'),\n",
       " ('January 15, 2024', '$1 = Rp15,553'),\n",
       " ('January 12, 2024', '$1 = Rp15,538'),\n",
       " ('January 11, 2024', '$1 = Rp15,563'),\n",
       " ('January 10, 2024', '$1 = Rp15,563'),\n",
       " ('January 9, 2024', '$1 = Rp15,536'),\n",
       " ('January 8, 2024', '$1 = Rp15,507'),\n",
       " ('January 5, 2024', '$1 = Rp15,503'),\n",
       " ('January 4, 2024', '$1 = Rp15,518'),\n",
       " ('January 3, 2024', '$1 = Rp15,562'),\n",
       " ('January 2, 2024', '$1 = Rp15,499'),\n",
       " ('January 1, 2024', '$1 = Rp15,390'),\n",
       " ('December 29, 2023', '$1 = Rp15,390'),\n",
       " ('December 28, 2023', '$1 = Rp15,461'),\n",
       " ('December 27, 2023', '$1 = Rp15,380'),\n",
       " ('December 26, 2023', '$1 = Rp15,408'),\n",
       " ('December 25, 2023', '$1 = Rp15,468'),\n",
       " ('December 22, 2023', '$1 = Rp15,467'),\n",
       " ('December 21, 2023', '$1 = Rp15,445'),\n",
       " ('December 20, 2023', '$1 = Rp15,606'),\n",
       " ('December 19, 2023', '$1 = Rp15,462'),\n",
       " ('December 18, 2023', '$1 = Rp15,452'),\n",
       " ('December 15, 2023', '$1 = Rp15,529'),\n",
       " ('December 14, 2023', '$1 = Rp15,476'),\n",
       " ('December 13, 2023', '$1 = Rp15,360'),\n",
       " ('December 12, 2023', '$1 = Rp15,576'),\n",
       " ('December 11, 2023', '$1 = Rp15,653'),\n",
       " ('December 8, 2023', '$1 = Rp15,573'),\n",
       " ('December 7, 2023', '$1 = Rp15,507'),\n",
       " ('December 6, 2023', '$1 = Rp15,514'),\n",
       " ('December 5, 2023', '$1 = Rp15,463'),\n",
       " ('December 4, 2023', '$1 = Rp15,485'),\n",
       " ('December 1, 2023', '$1 = Rp15,413'),\n",
       " ('November 30, 2023', '$1 = Rp15,559'),\n",
       " ('November 29, 2023', '$1 = Rp15,459'),\n",
       " ('November 28, 2023', '$1 = Rp15,352'),\n",
       " ('November 27, 2023', '$1 = Rp15,505'),\n",
       " ('November 24, 2023', '$1 = Rp15,540'),\n",
       " ('November 23, 2023', '$1 = Rp15,633'),\n",
       " ('November 22, 2023', '$1 = Rp15,656'),\n",
       " ('November 21, 2023', '$1 = Rp15,517'),\n",
       " ('November 20, 2023', '$1 = Rp15,389'),\n",
       " ('November 17, 2023', '$1 = Rp15,424'),\n",
       " ('November 16, 2023', '$1 = Rp15,484'),\n",
       " ('November 15, 2023', '$1 = Rp15,519'),\n",
       " ('November 14, 2023', '$1 = Rp15,459'),\n",
       " ('November 13, 2023', '$1 = Rp15,683'),\n",
       " ('November 10, 2023', '$1 = Rp15,694'),\n",
       " ('November 9, 2023', '$1 = Rp15,715'),\n",
       " ('November 8, 2023', '$1 = Rp15,625'),\n",
       " ('November 7, 2023', '$1 = Rp15,651'),\n",
       " ('November 6, 2023', '$1 = Rp15,577'),\n",
       " ('November 3, 2023', '$1 = Rp15,589'),\n",
       " ('November 2, 2023', '$1 = Rp15,852'),\n",
       " ('November 1, 2023', '$1 = Rp15,899'),\n",
       " ('October 31, 2023', '$1 = Rp15,919'),\n",
       " ('October 30, 2023', '$1 = Rp15,854')]"
      ]
     },
     "execution_count": 12,
     "metadata": {},
     "output_type": "execute_result"
    }
   ],
   "source": [
    "temp = []  # Initialize the list to store the data\n",
    "\n",
    "for i in range(0, row_length):  # Loop through each row, starting from 0\n",
    "\n",
    "    # Since each of these data points appears twice under different classes, I choose one format ('w') to consistently use for extraction.\n",
    "    # Get the date from the 'a' tag with class 'w' in the current row \n",
    "    date = table.find_all('a', class_='w')[i].text.strip()  # Extract and clean the text\n",
    "\n",
    "    # Get the exchange rate from the 'span' tag with class 'w' in the current row\n",
    "    rate = table.find_all(\"span\", class_='w')[i].text.strip()\n",
    "\n",
    "    # Append the extracted date and rate to the list\n",
    "    temp.append((date, rate))\n",
    "\n",
    "# Print the first few elements to verify\n",
    "temp"
   ]
  },
  {
   "cell_type": "markdown",
   "metadata": {},
   "source": [
    "Note: You can customize the code inside the loop according to your needs to extract the desired information from the website you scrap. Make sure to check and adjust the code well to suit the HTML structure and information you want to retrieve."
   ]
  },
  {
   "cell_type": "code",
   "execution_count": 13,
   "metadata": {},
   "outputs": [
    {
     "data": {
      "text/plain": [
       "[('October 30, 2023', '$1 = Rp15,854'),\n",
       " ('October 31, 2023', '$1 = Rp15,919'),\n",
       " ('November 1, 2023', '$1 = Rp15,899'),\n",
       " ('November 2, 2023', '$1 = Rp15,852'),\n",
       " ('November 3, 2023', '$1 = Rp15,589'),\n",
       " ('November 6, 2023', '$1 = Rp15,577'),\n",
       " ('November 7, 2023', '$1 = Rp15,651'),\n",
       " ('November 8, 2023', '$1 = Rp15,625'),\n",
       " ('November 9, 2023', '$1 = Rp15,715'),\n",
       " ('November 10, 2023', '$1 = Rp15,694'),\n",
       " ('November 13, 2023', '$1 = Rp15,683'),\n",
       " ('November 14, 2023', '$1 = Rp15,459'),\n",
       " ('November 15, 2023', '$1 = Rp15,519'),\n",
       " ('November 16, 2023', '$1 = Rp15,484'),\n",
       " ('November 17, 2023', '$1 = Rp15,424'),\n",
       " ('November 20, 2023', '$1 = Rp15,389'),\n",
       " ('November 21, 2023', '$1 = Rp15,517'),\n",
       " ('November 22, 2023', '$1 = Rp15,656'),\n",
       " ('November 23, 2023', '$1 = Rp15,633'),\n",
       " ('November 24, 2023', '$1 = Rp15,540'),\n",
       " ('November 27, 2023', '$1 = Rp15,505'),\n",
       " ('November 28, 2023', '$1 = Rp15,352'),\n",
       " ('November 29, 2023', '$1 = Rp15,459'),\n",
       " ('November 30, 2023', '$1 = Rp15,559'),\n",
       " ('December 1, 2023', '$1 = Rp15,413'),\n",
       " ('December 4, 2023', '$1 = Rp15,485'),\n",
       " ('December 5, 2023', '$1 = Rp15,463'),\n",
       " ('December 6, 2023', '$1 = Rp15,514'),\n",
       " ('December 7, 2023', '$1 = Rp15,507'),\n",
       " ('December 8, 2023', '$1 = Rp15,573'),\n",
       " ('December 11, 2023', '$1 = Rp15,653'),\n",
       " ('December 12, 2023', '$1 = Rp15,576'),\n",
       " ('December 13, 2023', '$1 = Rp15,360'),\n",
       " ('December 14, 2023', '$1 = Rp15,476'),\n",
       " ('December 15, 2023', '$1 = Rp15,529'),\n",
       " ('December 18, 2023', '$1 = Rp15,452'),\n",
       " ('December 19, 2023', '$1 = Rp15,462'),\n",
       " ('December 20, 2023', '$1 = Rp15,606'),\n",
       " ('December 21, 2023', '$1 = Rp15,445'),\n",
       " ('December 22, 2023', '$1 = Rp15,467'),\n",
       " ('December 25, 2023', '$1 = Rp15,468'),\n",
       " ('December 26, 2023', '$1 = Rp15,408'),\n",
       " ('December 27, 2023', '$1 = Rp15,380'),\n",
       " ('December 28, 2023', '$1 = Rp15,461'),\n",
       " ('December 29, 2023', '$1 = Rp15,390'),\n",
       " ('January 1, 2024', '$1 = Rp15,390'),\n",
       " ('January 2, 2024', '$1 = Rp15,499'),\n",
       " ('January 3, 2024', '$1 = Rp15,562'),\n",
       " ('January 4, 2024', '$1 = Rp15,518'),\n",
       " ('January 5, 2024', '$1 = Rp15,503'),\n",
       " ('January 8, 2024', '$1 = Rp15,507'),\n",
       " ('January 9, 2024', '$1 = Rp15,536'),\n",
       " ('January 10, 2024', '$1 = Rp15,563'),\n",
       " ('January 11, 2024', '$1 = Rp15,563'),\n",
       " ('January 12, 2024', '$1 = Rp15,538'),\n",
       " ('January 15, 2024', '$1 = Rp15,553'),\n",
       " ('January 16, 2024', '$1 = Rp15,632'),\n",
       " ('January 17, 2024', '$1 = Rp15,638'),\n",
       " ('January 18, 2024', '$1 = Rp15,621'),\n",
       " ('January 19, 2024', '$1 = Rp15,620'),\n",
       " ('January 22, 2024', '$1 = Rp15,661'),\n",
       " ('January 23, 2024', '$1 = Rp15,726'),\n",
       " ('January 24, 2024', '$1 = Rp15,720'),\n",
       " ('January 25, 2024', '$1 = Rp15,820'),\n",
       " ('January 26, 2024', '$1 = Rp15,775'),\n",
       " ('January 29, 2024', '$1 = Rp15,835'),\n",
       " ('January 30, 2024', '$1 = Rp15,791'),\n",
       " ('January 31, 2024', '$1 = Rp15,768'),\n",
       " ('February 1, 2024', '$1 = Rp15,733'),\n",
       " ('February 2, 2024', '$1 = Rp15,731'),\n",
       " ('February 5, 2024', '$1 = Rp15,775'),\n",
       " ('February 6, 2024', '$1 = Rp15,738'),\n",
       " ('February 7, 2024', '$1 = Rp15,653'),\n",
       " ('February 8, 2024', '$1 = Rp15,665'),\n",
       " ('February 9, 2024', '$1 = Rp15,611'),\n",
       " ('February 12, 2024', '$1 = Rp15,581'),\n",
       " ('February 13, 2024', '$1 = Rp15,671'),\n",
       " ('February 14, 2024', '$1 = Rp15,646'),\n",
       " ('February 15, 2024', '$1 = Rp15,679'),\n",
       " ('February 16, 2024', '$1 = Rp15,656'),\n",
       " ('February 19, 2024', '$1 = Rp15,643'),\n",
       " ('February 20, 2024', '$1 = Rp15,657'),\n",
       " ('February 21, 2024', '$1 = Rp15,658'),\n",
       " ('February 22, 2024', '$1 = Rp15,594'),\n",
       " ('February 23, 2024', '$1 = Rp15,594'),\n",
       " ('February 26, 2024', '$1 = Rp15,634'),\n",
       " ('February 27, 2024', '$1 = Rp15,673'),\n",
       " ('February 28, 2024', '$1 = Rp15,731'),\n",
       " ('February 29, 2024', '$1 = Rp15,712'),\n",
       " ('March 1, 2024', '$1 = Rp15,702'),\n",
       " ('March 4, 2024', '$1 = Rp15,760'),\n",
       " ('March 5, 2024', '$1 = Rp15,743'),\n",
       " ('March 6, 2024', '$1 = Rp15,660'),\n",
       " ('March 7, 2024', '$1 = Rp15,627'),\n",
       " ('March 8, 2024', '$1 = Rp15,541'),\n",
       " ('March 11, 2024', '$1 = Rp15,525'),\n",
       " ('March 12, 2024', '$1 = Rp15,560'),\n",
       " ('March 13, 2024', '$1 = Rp15,580'),\n",
       " ('March 14, 2024', '$1 = Rp15,638'),\n",
       " ('March 15, 2024', '$1 = Rp15,647'),\n",
       " ('March 18, 2024', '$1 = Rp15,742'),\n",
       " ('March 19, 2024', '$1 = Rp15,723'),\n",
       " ('March 20, 2024', '$1 = Rp15,697'),\n",
       " ('March 21, 2024', '$1 = Rp15,727'),\n",
       " ('March 22, 2024', '$1 = Rp15,814'),\n",
       " ('March 25, 2024', '$1 = Rp15,784'),\n",
       " ('March 26, 2024', '$1 = Rp15,821'),\n",
       " ('March 27, 2024', '$1 = Rp15,901'),\n",
       " ('March 28, 2024', '$1 = Rp15,891'),\n",
       " ('March 29, 2024', '$1 = Rp15,880'),\n",
       " ('April 1, 2024', '$1 = Rp15,951'),\n",
       " ('April 2, 2024', '$1 = Rp15,952'),\n",
       " ('April 3, 2024', '$1 = Rp15,942'),\n",
       " ('April 4, 2024', '$1 = Rp15,896'),\n",
       " ('April 5, 2024', '$1 = Rp15,888'),\n",
       " ('April 8, 2024', '$1 = Rp15,912'),\n",
       " ('April 9, 2024', '$1 = Rp15,892'),\n",
       " ('April 10, 2024', '$1 = Rp16,001'),\n",
       " ('April 11, 2024', '$1 = Rp16,011'),\n",
       " ('April 12, 2024', '$1 = Rp16,118'),\n",
       " ('April 15, 2024', '$1 = Rp16,083'),\n",
       " ('April 16, 2024', '$1 = Rp16,303'),\n",
       " ('April 17, 2024', '$1 = Rp16,243'),\n",
       " ('April 18, 2024', '$1 = Rp16,210'),\n",
       " ('April 19, 2024', '$1 = Rp16,218'),\n",
       " ('April 22, 2024', '$1 = Rp16,238'),\n",
       " ('April 23, 2024', '$1 = Rp16,143'),\n",
       " ('April 24, 2024', '$1 = Rp16,212'),\n",
       " ('April 25, 2024', '$1 = Rp16,193'),\n",
       " ('April 26, 2024', '$1 = Rp16,241')]"
      ]
     },
     "execution_count": 13,
     "metadata": {},
     "output_type": "execute_result"
    }
   ],
   "source": [
    "# Reversing the list to arrange the data chronologically from the earliest to the most recent date\n",
    "temp = temp[::-1]\n",
    "temp"
   ]
  },
  {
   "cell_type": "markdown",
   "metadata": {},
   "source": [
    "## Creating data frame & Data wrangling"
   ]
  },
  {
   "cell_type": "markdown",
   "metadata": {},
   "source": [
    "Once we have extracted the data, we can put it into a dataframe."
   ]
  },
  {
   "cell_type": "code",
   "execution_count": 14,
   "metadata": {
    "ExecuteTime": {
     "end_time": "2020-01-13T05:12:41.517372Z",
     "start_time": "2020-01-13T05:12:29.130015Z"
    }
   },
   "outputs": [
    {
     "data": {
      "text/html": [
       "<div>\n",
       "<style scoped>\n",
       "    .dataframe tbody tr th:only-of-type {\n",
       "        vertical-align: middle;\n",
       "    }\n",
       "\n",
       "    .dataframe tbody tr th {\n",
       "        vertical-align: top;\n",
       "    }\n",
       "\n",
       "    .dataframe thead th {\n",
       "        text-align: right;\n",
       "    }\n",
       "</style>\n",
       "<table border=\"1\" class=\"dataframe\">\n",
       "  <thead>\n",
       "    <tr style=\"text-align: right;\">\n",
       "      <th></th>\n",
       "      <th>Date</th>\n",
       "      <th>Exchange Rate</th>\n",
       "    </tr>\n",
       "  </thead>\n",
       "  <tbody>\n",
       "    <tr>\n",
       "      <th>0</th>\n",
       "      <td>October 30, 2023</td>\n",
       "      <td>$1 = Rp15,854</td>\n",
       "    </tr>\n",
       "    <tr>\n",
       "      <th>1</th>\n",
       "      <td>October 31, 2023</td>\n",
       "      <td>$1 = Rp15,919</td>\n",
       "    </tr>\n",
       "    <tr>\n",
       "      <th>2</th>\n",
       "      <td>November 1, 2023</td>\n",
       "      <td>$1 = Rp15,899</td>\n",
       "    </tr>\n",
       "    <tr>\n",
       "      <th>3</th>\n",
       "      <td>November 2, 2023</td>\n",
       "      <td>$1 = Rp15,852</td>\n",
       "    </tr>\n",
       "    <tr>\n",
       "      <th>4</th>\n",
       "      <td>November 3, 2023</td>\n",
       "      <td>$1 = Rp15,589</td>\n",
       "    </tr>\n",
       "  </tbody>\n",
       "</table>\n",
       "</div>"
      ],
      "text/plain": [
       "               Date  Exchange Rate\n",
       "0  October 30, 2023  $1 = Rp15,854\n",
       "1  October 31, 2023  $1 = Rp15,919\n",
       "2  November 1, 2023  $1 = Rp15,899\n",
       "3  November 2, 2023  $1 = Rp15,852\n",
       "4  November 3, 2023  $1 = Rp15,589"
      ]
     },
     "execution_count": 14,
     "metadata": {},
     "output_type": "execute_result"
    }
   ],
   "source": [
    "import pandas as pd\n",
    "\n",
    "exchange_rate = pd.DataFrame(temp, columns = (\"Date\", \"Exchange Rate\"))\n",
    "exchange_rate.head()"
   ]
  },
  {
   "cell_type": "markdown",
   "metadata": {},
   "source": [
    "### Data Cleansing\n"
   ]
  },
  {
   "cell_type": "code",
   "execution_count": 15,
   "metadata": {
    "ExecuteTime": {
     "end_time": "2020-01-13T05:12:59.165559Z",
     "start_time": "2020-01-13T05:12:58.910012Z"
    }
   },
   "outputs": [
    {
     "data": {
      "text/html": [
       "<div>\n",
       "<style scoped>\n",
       "    .dataframe tbody tr th:only-of-type {\n",
       "        vertical-align: middle;\n",
       "    }\n",
       "\n",
       "    .dataframe tbody tr th {\n",
       "        vertical-align: top;\n",
       "    }\n",
       "\n",
       "    .dataframe thead th {\n",
       "        text-align: right;\n",
       "    }\n",
       "</style>\n",
       "<table border=\"1\" class=\"dataframe\">\n",
       "  <thead>\n",
       "    <tr style=\"text-align: right;\">\n",
       "      <th></th>\n",
       "      <th>Date</th>\n",
       "      <th>Exchange Rate</th>\n",
       "    </tr>\n",
       "  </thead>\n",
       "  <tbody>\n",
       "    <tr>\n",
       "      <th>0</th>\n",
       "      <td>2023-10-30</td>\n",
       "      <td>15854.0</td>\n",
       "    </tr>\n",
       "    <tr>\n",
       "      <th>1</th>\n",
       "      <td>2023-10-31</td>\n",
       "      <td>15919.0</td>\n",
       "    </tr>\n",
       "    <tr>\n",
       "      <th>2</th>\n",
       "      <td>2023-11-01</td>\n",
       "      <td>15899.0</td>\n",
       "    </tr>\n",
       "    <tr>\n",
       "      <th>3</th>\n",
       "      <td>2023-11-02</td>\n",
       "      <td>15852.0</td>\n",
       "    </tr>\n",
       "    <tr>\n",
       "      <th>4</th>\n",
       "      <td>2023-11-03</td>\n",
       "      <td>15589.0</td>\n",
       "    </tr>\n",
       "  </tbody>\n",
       "</table>\n",
       "</div>"
      ],
      "text/plain": [
       "        Date  Exchange Rate\n",
       "0 2023-10-30        15854.0\n",
       "1 2023-10-31        15919.0\n",
       "2 2023-11-01        15899.0\n",
       "3 2023-11-02        15852.0\n",
       "4 2023-11-03        15589.0"
      ]
     },
     "execution_count": 15,
     "metadata": {},
     "output_type": "execute_result"
    }
   ],
   "source": [
    "# Convert the list of tuples into a DataFrame\n",
    "exchange_rate = pd.DataFrame(temp, columns=(\"Date\", \"Exchange Rate\"))\n",
    "\n",
    "# Parse the 'Date' column to datetime\n",
    "exchange_rate['Date'] = pd.to_datetime(exchange_rate['Date'])\n",
    "\n",
    "# Clean the 'Exchange Rate' column and convert it to float\n",
    "exchange_rate['Exchange Rate'] = exchange_rate['Exchange Rate'].str.replace('$1 = Rp', '').str.replace(',', '').astype(float)\n",
    "\n",
    "exchange_rate.head()"
   ]
  },
  {
   "cell_type": "code",
   "execution_count": 16,
   "metadata": {},
   "outputs": [
    {
     "name": "stdout",
     "output_type": "stream",
     "text": [
      "Date             datetime64[ns]\n",
      "Exchange Rate           float64\n",
      "dtype: object\n"
     ]
    }
   ],
   "source": [
    "# Verify data types\n",
    "print(exchange_rate.dtypes)"
   ]
  },
  {
   "cell_type": "code",
   "execution_count": 17,
   "metadata": {},
   "outputs": [
    {
     "name": "stdout",
     "output_type": "stream",
     "text": [
      "Date             0\n",
      "Exchange Rate    0\n",
      "dtype: int64\n"
     ]
    }
   ],
   "source": [
    "# Check for any missing values\n",
    "print(exchange_rate.isnull().sum())"
   ]
  },
  {
   "cell_type": "code",
   "execution_count": 18,
   "metadata": {},
   "outputs": [
    {
     "name": "stdout",
     "output_type": "stream",
     "text": [
      "            Exchange Rate\n",
      "Date                     \n",
      "2023-10-30        15854.0\n",
      "2023-10-31        15919.0\n",
      "2023-11-01        15899.0\n",
      "2023-11-02        15852.0\n",
      "2023-11-03        15589.0\n",
      "...                   ...\n",
      "2024-04-22        16238.0\n",
      "2024-04-23        16143.0\n",
      "2024-04-24        16212.0\n",
      "2024-04-25        16193.0\n",
      "2024-04-26        16241.0\n",
      "\n",
      "[130 rows x 1 columns]\n"
     ]
    }
   ],
   "source": [
    "# Set 'Date' as the index of the DataFrame\n",
    "exchange_rate.set_index('Date', inplace=True)\n",
    "\n",
    "# Display the first few rows of the cleaned DataFrame\n",
    "print(exchange_rate)"
   ]
  },
  {
   "cell_type": "markdown",
   "metadata": {},
   "source": [
    "### Data Visualization\n",
    "\n",
    "You can do start with making the data visualization to assist yourself understand the pattern, analyze it and provide a conclusion"
   ]
  },
  {
   "cell_type": "code",
   "execution_count": 19,
   "metadata": {},
   "outputs": [
    {
     "data": {
      "image/png": "[encoded data removed]",
      "text/plain": [
       "<Figure size 1000x700 with 1 Axes>"
      ]
     },
     "metadata": {},
     "output_type": "display_data"
    }
   ],
   "source": [
    "import matplotlib.pyplot as plt\n",
    "\n",
    "plt.figure(figsize=(10, 7))  # Set the size of the plot\n",
    "plt.plot(exchange_rate.index, exchange_rate['Exchange Rate'], marker='', color='green', linewidth=2)\n",
    "\n",
    "plt.title('USD to IDR Historical Exchange Rates')  # Add a title\n",
    "plt.xlabel('Date')  # Label the x-axis\n",
    "plt.ylabel('Exchange Rate (IDR per USD)')  # Label the y-axis\n",
    "plt.grid(True)  # Add a grid for easier reading\n",
    "plt.tight_layout()  # Adjust the layout\n",
    "\n",
    "# Display the plot\n",
    "plt.show()\n"
   ]
  },
  {
   "cell_type": "markdown",
   "metadata": {},
   "source": [
    "### Implementing your webscrapping to the flask dashboard\n",
    "\n",
    "- Copy paste all of your web scrapping process to the desired position on the `app.py`\n",
    "- Change the title of the dashboard in `index.html`"
   ]
  },
  {
   "cell_type": "markdown",
   "metadata": {},
   "source": [
    "## Finishing This Notebook with Your Analysis and Conclusion\n",
    "\n",
    "### Analysis:\n",
    "The chart shows the USD to IDR exchange rate over approximately a six-month period from November 2023 to April 2024. The following observations and analysis can be drawn from the trend in the chart:\n",
    "\n",
    "- Overall Upward Trend: There is a clear upward trend in the exchange rate, indicating a depreciation of the IDR against the USD over the observed period. This trend could be indicative of a wider economic trend, such as inflation within Indonesia or strengthening of the USD in global markets.\n",
    "- Volatility: There are periods of increased volatility, notably at the start of the period (around November 2023) and towards the end (around April 2024). Such volatility can be a concern for businesses that rely on stable exchange rates for cost planning and pricing strategies.\n",
    "- Sharp Increases: Particularly in April 2024, there's a sharp increase in the exchange rate. Such movements may be attributed to economic events or policy changes and can significantly impact businesses with exposure to IDR.\n",
    "\n",
    "### Conclusion:\n",
    "- Financial Planning: Businesses engaged in trade with Indonesia need to account for a possible continued depreciation of the IDR. Long-term contracts priced in USD may become more costly for Indonesian partners, and this should be factored into any new agreements or financial forecasts.\n",
    "- Risk Management: The observed volatility underscores the need for robust risk management strategies. Businesses might consider hedging techniques such as forward contracts to mitigate the risk posed by fluctuations in the exchange rate.\n",
    "- Decision-Making: For companies involved in import-export with Indonesia, this data suggests a careful review of pricing and cost strategies. Importers in Indonesia might find their costs rising and may need to adjust prices accordingly. Exporters to Indonesia might experience increased demand as their products become relatively cheaper for Indonesian buyers.\n",
    "- Market Opportunities: Investors may see opportunities in market movements like this. For instance, a strengthening USD could attract foreign investment into Indonesian assets, assuming investors expect the IDR to stabilize or appreciate in the future.\n",
    "- Operational Adjustments: Companies might also need to adjust operations, possibly sourcing more goods locally within Indonesia to avoid currency risk or diversifying the currency exposure in their financial operations.\n",
    "\n",
    "In light of this analysis, it is advisable for stakeholders to stay informed of macroeconomic indicators and to remain agile, adjusting financial strategies to the dynamic currency landscape. Business leaders should closely monitor not just the exchange rates but also the underlying factors that could be influencing these trends, such as Indonesia's central bank policies, inflation rates, and global economic conditions.\n"
   ]
  },
  {
   "cell_type": "markdown",
   "metadata": {},
   "source": [
    "### Extra Challange\n",
    "\n",
    "This will be not included to the scoring. \n",
    "\n",
    "- You can create additional visualization/analysis from the data.\n",
    "- Implement it to the dashboard with at `app.py` dan `index.html`."
   ]
  }
 ],
 "metadata": {
  "kernelspec": {
   "display_name": "capstone_yoda_da",
   "language": "python",
   "name": "python3"
  },
  "language_info": {
   "codemirror_mode": {
    "name": "ipython",
    "version": 3
   },
   "file_extension": ".py",
   "mimetype": "text/x-python",
   "name": "python",
   "nbconvert_exporter": "python",
   "pygments_lexer": "ipython3",
   "version": "3.10.14"
  }
 },
 "nbformat": 4,
 "nbformat_minor": 2
}
